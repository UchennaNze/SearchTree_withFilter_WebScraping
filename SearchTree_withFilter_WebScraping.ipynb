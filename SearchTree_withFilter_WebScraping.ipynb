{
 "cells": [
  {
   "cell_type": "code",
   "execution_count": 1,
   "id": "62350a73",
   "metadata": {},
   "outputs": [],
   "source": [
    "# Search in a tree using filters\n",
    "\n",
    "from bs4 import BeautifulSoup"
   ]
  },
  {
   "cell_type": "code",
   "execution_count": 2,
   "id": "63efa421",
   "metadata": {},
   "outputs": [],
   "source": [
    "# import the web scraping example html file\n",
    "HTMLfilePath = \"web_scraping_example.html\"\n",
    "with open(HTMLfilePath, \"r\") as organization:\n",
    "    soup = BeautifulSoup(organization, \"lxml\") # lxml parser is used for parsing the document"
   ]
  },
  {
   "cell_type": "code",
   "execution_count": 3,
   "id": "b91c4732",
   "metadata": {},
   "outputs": [
    {
     "data": {
      "text/plain": [
       "[<html>\n",
       " <body>\n",
       " <div class=\"oraganization\">\n",
       " <ul id=\"HR\">\n",
       " <li class=\"HRmanager\">\n",
       " <div class=\"name\">Jack</div>\n",
       " <div class=\"ID\">101</div>\n",
       " </li>\n",
       " <li class=\"HRmanager\">\n",
       " <div class=\"name\">Daren</div>\n",
       " <div class=\"ID\">65</div>\n",
       " </li>\n",
       " </ul>\n",
       " <ul id=\"IT\">\n",
       " <li class=\"ITmanager\">\n",
       " <div class=\"name\">Morris</div>\n",
       " <div class=\"ID\">39</div>\n",
       " </li>\n",
       " <li class=\"ITmanager\">\n",
       " <div class=\"name\">Jane</div>\n",
       " <div class=\"ID\">11</div>\n",
       " </li>\n",
       " </ul>\n",
       " <ul id=\"Finance\">\n",
       " <li class=\"accountmanager\">\n",
       " <div class=\"name\">Tom</div>\n",
       " <div class=\"ID\">22</div>\n",
       " </li>\n",
       " <li class=\"accountmanager\">\n",
       " <div class=\"name\">Kelly</div>\n",
       " <div class=\"ID\">95</div>\n",
       " </li>\n",
       " </ul>\n",
       " </div>\n",
       " </body>\n",
       " </html>]"
      ]
     },
     "execution_count": 3,
     "metadata": {},
     "output_type": "execute_result"
    }
   ],
   "source": [
    "# View the content of the soup object\n",
    "soup.contents"
   ]
  },
  {
   "cell_type": "code",
   "execution_count": 4,
   "id": "07da5a85",
   "metadata": {},
   "outputs": [],
   "source": [
    "# Search the tree using find methods\n",
    "tag_li = soup.find(\"li\")"
   ]
  },
  {
   "cell_type": "code",
   "execution_count": 5,
   "id": "089d626d",
   "metadata": {},
   "outputs": [
    {
     "name": "stdout",
     "output_type": "stream",
     "text": [
      "<class 'bs4.element.Tag'>\n"
     ]
    }
   ],
   "source": [
    "# Print the tag type\n",
    "print(type(tag_li))"
   ]
  },
  {
   "cell_type": "code",
   "execution_count": 6,
   "id": "9cb13fcf",
   "metadata": {},
   "outputs": [
    {
     "name": "stdout",
     "output_type": "stream",
     "text": [
      "<li class=\"HRmanager\">\n",
      "<div class=\"name\">Jack</div>\n",
      "<div class=\"ID\">101</div>\n",
      "</li>\n"
     ]
    }
   ],
   "source": [
    "# Print the tag\n",
    "print(tag_li)"
   ]
  },
  {
   "cell_type": "code",
   "execution_count": 7,
   "id": "c74f122c",
   "metadata": {},
   "outputs": [],
   "source": [
    "# Search the document using find method for an ID\n",
    "find_id = soup.find(id='HR')"
   ]
  },
  {
   "cell_type": "code",
   "execution_count": 8,
   "id": "f7590cd7",
   "metadata": {},
   "outputs": [
    {
     "name": "stdout",
     "output_type": "stream",
     "text": [
      "<ul id=\"HR\">\n",
      "<li class=\"HRmanager\">\n",
      "<div class=\"name\">Jack</div>\n",
      "<div class=\"ID\">101</div>\n",
      "</li>\n",
      "<li class=\"HRmanager\">\n",
      "<div class=\"name\">Daren</div>\n",
      "<div class=\"ID\">65</div>\n",
      "</li>\n",
      "</ul>\n"
     ]
    }
   ],
   "source": [
    "# Print the find_id object\n",
    "print(find_id)"
   ]
  },
  {
   "cell_type": "code",
   "execution_count": 9,
   "id": "3a719d2b",
   "metadata": {},
   "outputs": [
    {
     "name": "stdout",
     "output_type": "stream",
     "text": [
      "Jack\n"
     ]
    }
   ],
   "source": [
    "# Print the string value\n",
    "print(find_id.li.div.string)"
   ]
  },
  {
   "cell_type": "code",
   "execution_count": 10,
   "id": "b62e52b3",
   "metadata": {},
   "outputs": [],
   "source": [
    "# Search using string only\n",
    "search_for_StringOnly = soup.findAll(text=[\"Kelly\", \"Jack\"])"
   ]
  },
  {
   "cell_type": "code",
   "execution_count": 11,
   "id": "35fd77d0",
   "metadata": {},
   "outputs": [
    {
     "name": "stdout",
     "output_type": "stream",
     "text": [
      "['Jack', 'Kelly']\n"
     ]
    }
   ],
   "source": [
    "# Print the search values\n",
    "print(search_for_StringOnly)"
   ]
  },
  {
   "cell_type": "code",
   "execution_count": 12,
   "id": "f86b0300",
   "metadata": {},
   "outputs": [
    {
     "name": "stdout",
     "output_type": "stream",
     "text": [
      "<li class=\"ITmanager\">\n",
      "<div class=\"name\">Morris</div>\n",
      "<div class=\"ID\">39</div>\n",
      "</li>\n"
     ]
    }
   ],
   "source": [
    "# Search based on css class name (present as an attribute)\n",
    "css_class_search = soup.find(attrs = {\"class\":\"ITmanager\"})\n",
    "print(css_class_search)"
   ]
  },
  {
   "cell_type": "code",
   "execution_count": 13,
   "id": "07cfcb37",
   "metadata": {},
   "outputs": [],
   "source": [
    "# Create a function to search the document based on the tag passed as parameter\n",
    "def is_account_manager(tag):\n",
    "    return tag.has_attr(\"id\") and tag.get(\"id\") == \"Finance\""
   ]
  },
  {
   "cell_type": "code",
   "execution_count": 14,
   "id": "b9b161f2",
   "metadata": {},
   "outputs": [
    {
     "name": "stdout",
     "output_type": "stream",
     "text": [
      "Tom\n"
     ]
    }
   ],
   "source": [
    "# Search the document using function and print it\n",
    "account_manager = soup.find(is_account_manager)\n",
    "print(account_manager.li.div.string)"
   ]
  },
  {
   "cell_type": "code",
   "execution_count": 15,
   "id": "303d0173",
   "metadata": {},
   "outputs": [
    {
     "name": "stdout",
     "output_type": "stream",
     "text": [
      "html\n",
      "body\n",
      "div\n",
      "ul\n",
      "li\n",
      "div\n",
      "div\n",
      "li\n",
      "div\n",
      "div\n",
      "ul\n",
      "li\n",
      "div\n",
      "div\n",
      "li\n",
      "div\n",
      "div\n",
      "ul\n",
      "li\n",
      "div\n",
      "div\n",
      "li\n",
      "div\n",
      "div\n"
     ]
    }
   ],
   "source": [
    "# Print tag name using True- which returns all tags present in the document\n",
    "for tag in soup.findAll(True):\n",
    "    print(tag.name)"
   ]
  },
  {
   "cell_type": "code",
   "execution_count": 16,
   "id": "ee4e0c10",
   "metadata": {},
   "outputs": [],
   "source": [
    "# Search usng findall method for the given class\n",
    "find_class = soup.findAll(class_='HRmanager')"
   ]
  },
  {
   "cell_type": "code",
   "execution_count": 17,
   "id": "9305c284",
   "metadata": {},
   "outputs": [
    {
     "data": {
      "text/plain": [
       "bs4.element.ResultSet"
      ]
     },
     "execution_count": 17,
     "metadata": {},
     "output_type": "execute_result"
    }
   ],
   "source": [
    "# View the type of the class\n",
    "type(find_class)"
   ]
  },
  {
   "cell_type": "code",
   "execution_count": 18,
   "id": "1db61541",
   "metadata": {},
   "outputs": [
    {
     "name": "stdout",
     "output_type": "stream",
     "text": [
      "<li class=\"HRmanager\">\n",
      "<div class=\"name\">Jack</div>\n",
      "<div class=\"ID\">101</div>\n",
      "</li>\n"
     ]
    }
   ],
   "source": [
    "# Print the second resultset\n",
    "print(find_class[0])"
   ]
  },
  {
   "cell_type": "code",
   "execution_count": 19,
   "id": "1b3ef83c",
   "metadata": {},
   "outputs": [
    {
     "name": "stdout",
     "output_type": "stream",
     "text": [
      "<li class=\"HRmanager\">\n",
      "<div class=\"name\">Daren</div>\n",
      "<div class=\"ID\">65</div>\n",
      "</li>\n"
     ]
    }
   ],
   "source": [
    "# Print the second result\n",
    "print(find_class[1])"
   ]
  },
  {
   "cell_type": "code",
   "execution_count": 20,
   "id": "18487f3a",
   "metadata": {},
   "outputs": [
    {
     "name": "stdout",
     "output_type": "stream",
     "text": [
      "[<ul id=\"HR\">\n",
      "<li class=\"HRmanager\">\n",
      "<div class=\"name\">Jack</div>\n",
      "<div class=\"ID\">101</div>\n",
      "</li>\n",
      "<li class=\"HRmanager\">\n",
      "<div class=\"name\">Daren</div>\n",
      "<div class=\"ID\">65</div>\n",
      "</li>\n",
      "</ul>]\n"
     ]
    }
   ],
   "source": [
    "# Find parents using findparent method\n",
    "find_class = find_class[0]\n",
    "find_parent = find_class.find_parents(\"ul\")\n",
    "print(find_parent)"
   ]
  },
  {
   "cell_type": "code",
   "execution_count": 21,
   "id": "34193059",
   "metadata": {},
   "outputs": [],
   "source": [
    "# Use find method to search based on the id\n",
    "org = soup.find(id=\"IT\")"
   ]
  },
  {
   "cell_type": "code",
   "execution_count": 22,
   "id": "7d350c4f",
   "metadata": {},
   "outputs": [
    {
     "name": "stdout",
     "output_type": "stream",
     "text": [
      "<ul id=\"IT\">\n",
      "<li class=\"ITmanager\">\n",
      "<div class=\"name\">Morris</div>\n",
      "<div class=\"ID\">39</div>\n",
      "</li>\n",
      "<li class=\"ITmanager\">\n",
      "<div class=\"name\">Jane</div>\n",
      "<div class=\"ID\">11</div>\n",
      "</li>\n",
      "</ul>\n"
     ]
    }
   ],
   "source": [
    "# Print the search object\n",
    "print(org)"
   ]
  },
  {
   "cell_type": "code",
   "execution_count": 23,
   "id": "8123ef07",
   "metadata": {},
   "outputs": [],
   "source": [
    "# Find the next siblings\n",
    "next_sibling = org.findNextSiblings()"
   ]
  },
  {
   "cell_type": "code",
   "execution_count": 24,
   "id": "fd4ca180",
   "metadata": {},
   "outputs": [
    {
     "name": "stdout",
     "output_type": "stream",
     "text": [
      "<bound method PageElement.find_parents of <ul id=\"IT\">\n",
      "<li class=\"ITmanager\">\n",
      "<div class=\"name\">Morris</div>\n",
      "<div class=\"ID\">39</div>\n",
      "</li>\n",
      "<li class=\"ITmanager\">\n",
      "<div class=\"name\">Jane</div>\n",
      "<div class=\"ID\">11</div>\n",
      "</li>\n",
      "</ul>>\n"
     ]
    }
   ],
   "source": [
    "# Print parents\n",
    "parent = org.findParents\n",
    "print(parent)"
   ]
  },
  {
   "cell_type": "code",
   "execution_count": 25,
   "id": "05c12a1a",
   "metadata": {},
   "outputs": [
    {
     "name": "stdout",
     "output_type": "stream",
     "text": [
      "[<div class=\"ID\">65</div>, <div class=\"name\">Daren</div>, <li class=\"HRmanager\">\n",
      "<div class=\"name\">Daren</div>\n",
      "<div class=\"ID\">65</div>\n",
      "</li>, <div class=\"ID\">101</div>, <div class=\"name\">Jack</div>, <li class=\"HRmanager\">\n",
      "<div class=\"name\">Jack</div>\n",
      "<div class=\"ID\">101</div>\n",
      "</li>, <ul id=\"HR\">\n",
      "<li class=\"HRmanager\">\n",
      "<div class=\"name\">Jack</div>\n",
      "<div class=\"ID\">101</div>\n",
      "</li>\n",
      "<li class=\"HRmanager\">\n",
      "<div class=\"name\">Daren</div>\n",
      "<div class=\"ID\">65</div>\n",
      "</li>\n",
      "</ul>, <div class=\"oraganization\">\n",
      "<ul id=\"HR\">\n",
      "<li class=\"HRmanager\">\n",
      "<div class=\"name\">Jack</div>\n",
      "<div class=\"ID\">101</div>\n",
      "</li>\n",
      "<li class=\"HRmanager\">\n",
      "<div class=\"name\">Daren</div>\n",
      "<div class=\"ID\">65</div>\n",
      "</li>\n",
      "</ul>\n",
      "<ul id=\"IT\">\n",
      "<li class=\"ITmanager\">\n",
      "<div class=\"name\">Morris</div>\n",
      "<div class=\"ID\">39</div>\n",
      "</li>\n",
      "<li class=\"ITmanager\">\n",
      "<div class=\"name\">Jane</div>\n",
      "<div class=\"ID\">11</div>\n",
      "</li>\n",
      "</ul>\n",
      "<ul id=\"Finance\">\n",
      "<li class=\"accountmanager\">\n",
      "<div class=\"name\">Tom</div>\n",
      "<div class=\"ID\">22</div>\n",
      "</li>\n",
      "<li class=\"accountmanager\">\n",
      "<div class=\"name\">Kelly</div>\n",
      "<div class=\"ID\">95</div>\n",
      "</li>\n",
      "</ul>\n",
      "</div>, <body>\n",
      "<div class=\"oraganization\">\n",
      "<ul id=\"HR\">\n",
      "<li class=\"HRmanager\">\n",
      "<div class=\"name\">Jack</div>\n",
      "<div class=\"ID\">101</div>\n",
      "</li>\n",
      "<li class=\"HRmanager\">\n",
      "<div class=\"name\">Daren</div>\n",
      "<div class=\"ID\">65</div>\n",
      "</li>\n",
      "</ul>\n",
      "<ul id=\"IT\">\n",
      "<li class=\"ITmanager\">\n",
      "<div class=\"name\">Morris</div>\n",
      "<div class=\"ID\">39</div>\n",
      "</li>\n",
      "<li class=\"ITmanager\">\n",
      "<div class=\"name\">Jane</div>\n",
      "<div class=\"ID\">11</div>\n",
      "</li>\n",
      "</ul>\n",
      "<ul id=\"Finance\">\n",
      "<li class=\"accountmanager\">\n",
      "<div class=\"name\">Tom</div>\n",
      "<div class=\"ID\">22</div>\n",
      "</li>\n",
      "<li class=\"accountmanager\">\n",
      "<div class=\"name\">Kelly</div>\n",
      "<div class=\"ID\">95</div>\n",
      "</li>\n",
      "</ul>\n",
      "</div>\n",
      "</body>, <html>\n",
      "<body>\n",
      "<div class=\"oraganization\">\n",
      "<ul id=\"HR\">\n",
      "<li class=\"HRmanager\">\n",
      "<div class=\"name\">Jack</div>\n",
      "<div class=\"ID\">101</div>\n",
      "</li>\n",
      "<li class=\"HRmanager\">\n",
      "<div class=\"name\">Daren</div>\n",
      "<div class=\"ID\">65</div>\n",
      "</li>\n",
      "</ul>\n",
      "<ul id=\"IT\">\n",
      "<li class=\"ITmanager\">\n",
      "<div class=\"name\">Morris</div>\n",
      "<div class=\"ID\">39</div>\n",
      "</li>\n",
      "<li class=\"ITmanager\">\n",
      "<div class=\"name\">Jane</div>\n",
      "<div class=\"ID\">11</div>\n",
      "</li>\n",
      "</ul>\n",
      "<ul id=\"Finance\">\n",
      "<li class=\"accountmanager\">\n",
      "<div class=\"name\">Tom</div>\n",
      "<div class=\"ID\">22</div>\n",
      "</li>\n",
      "<li class=\"accountmanager\">\n",
      "<div class=\"name\">Kelly</div>\n",
      "<div class=\"ID\">95</div>\n",
      "</li>\n",
      "</ul>\n",
      "</div>\n",
      "</body>\n",
      "</html>]\n"
     ]
    }
   ],
   "source": [
    "# Find and print previous\n",
    "all_previous = org.findAllPrevious()\n",
    "print(all_previous)"
   ]
  },
  {
   "cell_type": "code",
   "execution_count": 27,
   "id": "fa1d2561",
   "metadata": {},
   "outputs": [
    {
     "name": "stdout",
     "output_type": "stream",
     "text": [
      "<ul id=\"HR\">\n",
      "<li class=\"HRmanager\">\n",
      "<div class=\"name\">Jack</div>\n",
      "<div class=\"ID\">101</div>\n",
      "</li>\n",
      "<li class=\"HRmanager\">\n",
      "<div class=\"name\">Daren</div>\n",
      "<div class=\"ID\">65</div>\n",
      "</li>\n",
      "</ul>\n"
     ]
    }
   ],
   "source": [
    "# Search and print previous sibling\n",
    "previous_sibling = org.findPreviousSibling()\n",
    "print(previous_sibling)"
   ]
  },
  {
   "cell_type": "code",
   "execution_count": 28,
   "id": "0ee8c172",
   "metadata": {},
   "outputs": [
    {
     "name": "stdout",
     "output_type": "stream",
     "text": [
      "[<li class=\"ITmanager\">\n",
      "<div class=\"name\">Morris</div>\n",
      "<div class=\"ID\">39</div>\n",
      "</li>, <div class=\"name\">Morris</div>, <div class=\"ID\">39</div>, <li class=\"ITmanager\">\n",
      "<div class=\"name\">Jane</div>\n",
      "<div class=\"ID\">11</div>\n",
      "</li>, <div class=\"name\">Jane</div>, <div class=\"ID\">11</div>, <ul id=\"Finance\">\n",
      "<li class=\"accountmanager\">\n",
      "<div class=\"name\">Tom</div>\n",
      "<div class=\"ID\">22</div>\n",
      "</li>\n",
      "<li class=\"accountmanager\">\n",
      "<div class=\"name\">Kelly</div>\n",
      "<div class=\"ID\">95</div>\n",
      "</li>\n",
      "</ul>, <li class=\"accountmanager\">\n",
      "<div class=\"name\">Tom</div>\n",
      "<div class=\"ID\">22</div>\n",
      "</li>, <div class=\"name\">Tom</div>, <div class=\"ID\">22</div>, <li class=\"accountmanager\">\n",
      "<div class=\"name\">Kelly</div>\n",
      "<div class=\"ID\">95</div>\n",
      "</li>, <div class=\"name\">Kelly</div>, <div class=\"ID\">95</div>]\n"
     ]
    }
   ],
   "source": [
    "# Search and print all next\n",
    "all_next = org.findAllNext()\n",
    "print(all_next)"
   ]
  },
  {
   "cell_type": "code",
   "execution_count": 29,
   "id": "1ab4d96e",
   "metadata": {},
   "outputs": [
    {
     "name": "stdout",
     "output_type": "stream",
     "text": [
      "\n",
      "abc@example.com\n"
     ]
    }
   ],
   "source": [
    "# Use regular expression to search the document. Here, we create a sample example to extract email ID from it\n",
    "import re\n",
    "email_example = \"\"\"<br/>\n",
    "<p>my email id is</p>\n",
    "abc@example.com\"\"\"\n",
    "soup_email = BeautifulSoup(email_example, \"lxml\")\n",
    "\n",
    "# Use compile method to compile the information which contains regular expression\n",
    "emailid_regexp = re.compile(\"\\w+@\\w+\\.\\w+\")\n",
    "\n",
    "# Find and print the email id using regular expression\n",
    "email_id = soup_email.find(text = emailid_regexp)\n",
    "print(email_id)"
   ]
  },
  {
   "cell_type": "code",
   "execution_count": null,
   "id": "0acba561",
   "metadata": {},
   "outputs": [],
   "source": []
  }
 ],
 "metadata": {
  "kernelspec": {
   "display_name": "Python 3 (ipykernel)",
   "language": "python",
   "name": "python3"
  },
  "language_info": {
   "codemirror_mode": {
    "name": "ipython",
    "version": 3
   },
   "file_extension": ".py",
   "mimetype": "text/x-python",
   "name": "python",
   "nbconvert_exporter": "python",
   "pygments_lexer": "ipython3",
   "version": "3.9.12"
  }
 },
 "nbformat": 4,
 "nbformat_minor": 5
}
